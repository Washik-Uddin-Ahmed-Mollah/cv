{
  "nbformat": 4,
  "nbformat_minor": 0,
  "metadata": {
    "colab": {
      "name": "Sentiment_analysis.ipynb",
      "provenance": [],
      "collapsed_sections": [],
      "authorship_tag": "ABX9TyMUahVer248CO7DGt823cHR",
      "include_colab_link": true
    },
    "kernelspec": {
      "name": "python3",
      "display_name": "Python 3"
    },
    "language_info": {
      "name": "python"
    }
  },
  "cells": [
    {
      "cell_type": "markdown",
      "metadata": {
        "id": "view-in-github",
        "colab_type": "text"
      },
      "source": [
        "<a href=\"https://colab.research.google.com/github/Washik-Uddin-Ahmed-Mollah/cv/blob/ML%2FDL-projects/Sentiment_analysis.ipynb\" target=\"_parent\"><img src=\"https://colab.research.google.com/assets/colab-badge.svg\" alt=\"Open In Colab\"/></a>"
      ]
    },
    {
      "cell_type": "markdown",
      "source": [
        "<h1>Task1: Sentiment analysis on Naver Movie Review dataset</h1>\n",
        "<p>by Washik Uddin Ahmed Mollah, sopohomore, KAIST, department of CS and EE</p>"
      ],
      "metadata": {
        "id": "uDlA3ezrUBR1"
      }
    },
    {
      "cell_type": "markdown",
      "source": [
        "<h3>Download the data from Kaggle</h3>\n",
        "<p>I am doing this task on colab. For the next section of code to work the file kaggle.json must be loaded into memory. I will push this file into github so that everyone can access it.</p>"
      ],
      "metadata": {
        "id": "3MRWwbhrUn49"
      }
    },
    {
      "cell_type": "code",
      "source": [
        "# Run this to ensure TensorFlow 2.x is used\n",
        "try:\n",
        "  # %tensorflow_version only exists in Colab.\n",
        "  %tensorflow_version 2.x\n",
        "except Exception:\n",
        "  pass"
      ],
      "metadata": {
        "id": "jsR701lC5Kf0"
      },
      "execution_count": 1,
      "outputs": []
    },
    {
      "cell_type": "code",
      "source": [
        "! pip install kaggle"
      ],
      "metadata": {
        "colab": {
          "base_uri": "https://localhost:8080/"
        },
        "id": "4T_kAOhuUXPf",
        "outputId": "a3ecd43a-2b59-4df0-82d9-fbe5db2c17ba"
      },
      "execution_count": 2,
      "outputs": [
        {
          "output_type": "stream",
          "name": "stdout",
          "text": [
            "Requirement already satisfied: kaggle in /usr/local/lib/python3.7/dist-packages (1.5.12)\n",
            "Requirement already satisfied: requests in /usr/local/lib/python3.7/dist-packages (from kaggle) (2.23.0)\n",
            "Requirement already satisfied: tqdm in /usr/local/lib/python3.7/dist-packages (from kaggle) (4.64.0)\n",
            "Requirement already satisfied: six>=1.10 in /usr/local/lib/python3.7/dist-packages (from kaggle) (1.15.0)\n",
            "Requirement already satisfied: python-slugify in /usr/local/lib/python3.7/dist-packages (from kaggle) (6.1.2)\n",
            "Requirement already satisfied: python-dateutil in /usr/local/lib/python3.7/dist-packages (from kaggle) (2.8.2)\n",
            "Requirement already satisfied: urllib3 in /usr/local/lib/python3.7/dist-packages (from kaggle) (1.24.3)\n",
            "Requirement already satisfied: certifi in /usr/local/lib/python3.7/dist-packages (from kaggle) (2021.10.8)\n",
            "Requirement already satisfied: text-unidecode>=1.3 in /usr/local/lib/python3.7/dist-packages (from python-slugify->kaggle) (1.3)\n",
            "Requirement already satisfied: chardet<4,>=3.0.2 in /usr/local/lib/python3.7/dist-packages (from requests->kaggle) (3.0.4)\n",
            "Requirement already satisfied: idna<3,>=2.5 in /usr/local/lib/python3.7/dist-packages (from requests->kaggle) (2.10)\n"
          ]
        }
      ]
    },
    {
      "cell_type": "code",
      "source": [
        "mkdir ~/.kaggle"
      ],
      "metadata": {
        "id": "S4J7EJTKUnR3"
      },
      "execution_count": 3,
      "outputs": []
    },
    {
      "cell_type": "code",
      "source": [
        "cp kaggle.json ~/.kaggle/"
      ],
      "metadata": {
        "id": "SnOKLR4hUqCt"
      },
      "execution_count": 4,
      "outputs": []
    },
    {
      "cell_type": "code",
      "source": [
        "! chmod 600 ~/.kaggle/kaggle.json"
      ],
      "metadata": {
        "id": "7lUUz-JuUqOV"
      },
      "execution_count": 5,
      "outputs": []
    },
    {
      "cell_type": "code",
      "source": [
        "! kaggle datasets download soohyun/naver-movie-review-dataset"
      ],
      "metadata": {
        "colab": {
          "base_uri": "https://localhost:8080/"
        },
        "id": "FKPnjDMOUqZr",
        "outputId": "11445735-3da1-4ead-e0d9-21dc09d3eee0"
      },
      "execution_count": 6,
      "outputs": [
        {
          "output_type": "stream",
          "name": "stdout",
          "text": [
            "Downloading naver-movie-review-dataset.zip to /content\n",
            " 97% 8.00M/8.26M [00:00<00:00, 24.7MB/s]\n",
            "100% 8.26M/8.26M [00:00<00:00, 25.9MB/s]\n"
          ]
        }
      ]
    },
    {
      "cell_type": "code",
      "source": [
        "! unzip naver-movie-review-dataset.zip"
      ],
      "metadata": {
        "colab": {
          "base_uri": "https://localhost:8080/"
        },
        "id": "kPGHsY8BVWQt",
        "outputId": "d5425d46-5685-4342-f559-ed3207f424c9"
      },
      "execution_count": 7,
      "outputs": [
        {
          "output_type": "stream",
          "name": "stdout",
          "text": [
            "Archive:  naver-movie-review-dataset.zip\n",
            "  inflating: ratings_test.txt        \n",
            "  inflating: ratings_train.txt       \n"
          ]
        }
      ]
    },
    {
      "cell_type": "markdown",
      "source": [
        "<h3>Prepare training dataset</h3>\n",
        "<p>The following block of code reads from the file ratings_train.txt. The structure of the data is movie_id \\t review \\t label(meaning positive or negative). Skipping the first row, which contains the column titles, I append the reviews to the list training_reviews, and the labels to the list training_sentiment. The labels are initially of string type, so they are converted to float.</p>"
      ],
      "metadata": {
        "id": "Bmql3CiMVZp1"
      }
    },
    {
      "cell_type": "code",
      "source": [
        "with open(\"/content/ratings_train.txt\", 'r') as f:\n",
        "    lines = f.readlines()\n",
        "\n",
        "training_reviews = []\n",
        "training_sentiment = []\n",
        "\n",
        "for line in lines:\n",
        "    temp_list = line.split('\\t')\n",
        "    training_reviews.append(temp_list[1])\n",
        "    training_sentiment.append(temp_list[2][0])\n",
        "  \n",
        "training_reviews = training_reviews[1:]\n",
        "training_sentiment = training_sentiment[1:]\n",
        "\n",
        "training_sentiment = [float(x) for x in training_sentiment]"
      ],
      "metadata": {
        "colab": {
          "base_uri": "https://localhost:8080/"
        },
        "id": "Jg4og4pLV-hM",
        "outputId": "476bcf3f-ebc9-426f-fa79-35b9f8f9dfef"
      },
      "execution_count": 30,
      "outputs": [
        {
          "output_type": "stream",
          "name": "stdout",
          "text": [
            "158\n"
          ]
        }
      ]
    },
    {
      "cell_type": "markdown",
      "source": [
        "<h3>Prepare test dataset</h3>\n"
      ],
      "metadata": {
        "id": "R6Prue2ubBuP"
      }
    },
    {
      "cell_type": "code",
      "source": [
        "with open(\"/content/ratings_test.txt\", 'r') as fo:\n",
        "  lines = fo.readlines()\n",
        "\n",
        "testing_reviews = []\n",
        "testing_sentiment = []\n",
        "\n",
        "for line in lines:\n",
        "  temp_list = line.split('\\t')\n",
        "  testing_reviews.append(temp_list[1])\n",
        "  testing_sentiment.append(temp_list[2][0])\n",
        "\n",
        "testing_reviews = testing_reviews[1:]\n",
        "testing_sentiment = testing_sentiment[1:]\n",
        "\n",
        "testing_sentiment = [float(x) for x in testing_sentiment]\n",
        "testing_sentiment[0:10]"
      ],
      "metadata": {
        "colab": {
          "base_uri": "https://localhost:8080/"
        },
        "id": "rDZuznpIVWWk",
        "outputId": "1ba4fc0f-7599-43dc-debb-cf68eaf98d46"
      },
      "execution_count": 34,
      "outputs": [
        {
          "output_type": "execute_result",
          "data": {
            "text/plain": [
              "[1.0, 0.0, 0.0, 0.0, 0.0, 1.0, 0.0, 0.0, 0.0, 1.0]"
            ]
          },
          "metadata": {},
          "execution_count": 34
        }
      ]
    },
    {
      "cell_type": "markdown",
      "source": [
        "<p>Import necessary libraries</p1>"
      ],
      "metadata": {
        "id": "ZsNGXvZzbs8x"
      }
    },
    {
      "cell_type": "code",
      "execution_count": 35,
      "metadata": {
        "id": "Xwub4viAeGN3"
      },
      "outputs": [],
      "source": [
        "import tensorflow as tf\n",
        "from tensorflow import keras\n",
        "from tensorflow.keras.preprocessing.text import Tokenizer\n",
        "from tensorflow.keras.preprocessing.sequence import pad_sequences"
      ]
    },
    {
      "cell_type": "markdown",
      "source": [
        "<p>Some reviews are much longer than others. The following code allows us to pick a maximum length of the reviews that we will use for training</p>"
      ],
      "metadata": {
        "id": "Dar7Vp_4b32H"
      }
    },
    {
      "cell_type": "code",
      "source": [
        "from statistics import mean\n",
        "\n",
        "longest_review = max(training_reviews, key=len)\n",
        "print(\"longest_review: \" + str(len(longest_review)))\n",
        "print(\"average length of review: \" + str(mean([len(i) for i in training_reviews])))"
      ],
      "metadata": {
        "colab": {
          "base_uri": "https://localhost:8080/"
        },
        "id": "FDOv1pMOaTjC",
        "outputId": "e8fd4ad2-63c6-411f-fb8d-9ed8986f173c"
      },
      "execution_count": 38,
      "outputs": [
        {
          "output_type": "stream",
          "name": "stdout",
          "text": [
            "longest_review: 158\n",
            "average length of review: 35.23739333333333\n"
          ]
        }
      ]
    },
    {
      "cell_type": "code",
      "source": [
        "vocab_size = 10000\n",
        "embedding_dim = 16\n",
        "max_length = 100\n",
        "trunc_type='post'\n",
        "padding_type='post'\n",
        "oov_tok = \"<OOV>\"\n",
        "training_size = 20000"
      ],
      "metadata": {
        "id": "SiQGO3ygecMm"
      },
      "execution_count": 39,
      "outputs": []
    },
    {
      "cell_type": "markdown",
      "source": [
        "<p>Note that in the following lines of code the tokenizer is fit only to the training reviews and not to the testing reviews.</p>"
      ],
      "metadata": {
        "id": "Po-9ozxYc6hI"
      }
    },
    {
      "cell_type": "code",
      "source": [
        "tokenizer = Tokenizer(num_words=vocab_size, oov_token=oov_tok)\n",
        "tokenizer.fit_on_texts(training_reviews)\n",
        "\n",
        "word_index = tokenizer.word_index\n",
        "\n",
        "training_sequences = tokenizer.texts_to_sequences(training_reviews)\n",
        "training_padded = pad_sequences(training_sequences, maxlen=max_length, padding=padding_type, truncating=trunc_type)\n",
        "\n",
        "testing_sequences = tokenizer.texts_to_sequences(testing_reviews)\n",
        "testing_padded = pad_sequences(testing_sequences, maxlen=max_length, padding=padding_type, truncating=trunc_type)"
      ],
      "metadata": {
        "id": "o3-TNxAle_Ns"
      },
      "execution_count": 42,
      "outputs": []
    },
    {
      "cell_type": "code",
      "source": [
        "# Need this block to get it to work with TensorFlow 2.x\n",
        "import numpy as np\n",
        "training_padded = np.array(training_padded)\n",
        "training_labels = np.array(training_sentiment)\n",
        "testing_padded = np.array(testing_padded)\n",
        "testing_labels = np.array(testing_sentiment)"
      ],
      "metadata": {
        "id": "yxFH772OvAP-"
      },
      "execution_count": 43,
      "outputs": []
    },
    {
      "cell_type": "markdown",
      "source": [
        "<h3>Build the model</h3>"
      ],
      "metadata": {
        "id": "Ngr4Y8Jgdl1B"
      }
    },
    {
      "cell_type": "code",
      "source": [
        "model = tf.keras.Sequential([\n",
        "    tf.keras.layers.Embedding(vocab_size, embedding_dim, input_length=max_length),\n",
        "    tf.keras.layers.GlobalAveragePooling1D(),\n",
        "    tf.keras.layers.Dense(24, activation='relu'),\n",
        "    tf.keras.layers.Dense(1, activation='sigmoid')\n",
        "])\n",
        "model.compile(loss='binary_crossentropy',optimizer='adam',metrics=['accuracy'])"
      ],
      "metadata": {
        "id": "ANnb6jYB5NIn"
      },
      "execution_count": 44,
      "outputs": []
    },
    {
      "cell_type": "code",
      "source": [
        "model.summary()"
      ],
      "metadata": {
        "colab": {
          "base_uri": "https://localhost:8080/"
        },
        "id": "Xwu8inaD5Sbo",
        "outputId": "0764931a-db43-4f77-f4dd-65cbe4cfe40d"
      },
      "execution_count": 45,
      "outputs": [
        {
          "output_type": "stream",
          "name": "stdout",
          "text": [
            "Model: \"sequential_1\"\n",
            "_________________________________________________________________\n",
            " Layer (type)                Output Shape              Param #   \n",
            "=================================================================\n",
            " embedding_1 (Embedding)     (None, 100, 16)           160000    \n",
            "                                                                 \n",
            " global_average_pooling1d_1   (None, 16)               0         \n",
            " (GlobalAveragePooling1D)                                        \n",
            "                                                                 \n",
            " dense_2 (Dense)             (None, 24)                408       \n",
            "                                                                 \n",
            " dense_3 (Dense)             (None, 1)                 25        \n",
            "                                                                 \n",
            "=================================================================\n",
            "Total params: 160,433\n",
            "Trainable params: 160,433\n",
            "Non-trainable params: 0\n",
            "_________________________________________________________________\n"
          ]
        }
      ]
    },
    {
      "cell_type": "code",
      "source": [
        "print(len(testing_padded))\n",
        "print(len(testing_labels))\n",
        "print(len(training_padded))\n",
        "print(len(training_labels))"
      ],
      "metadata": {
        "colab": {
          "base_uri": "https://localhost:8080/"
        },
        "id": "YEHldaMhEzO7",
        "outputId": "588a26ce-65b6-4edf-eaea-38f88abe5e2c"
      },
      "execution_count": 17,
      "outputs": [
        {
          "output_type": "stream",
          "name": "stdout",
          "text": [
            "50000\n",
            "50000\n",
            "150000\n",
            "150000\n"
          ]
        }
      ]
    },
    {
      "cell_type": "markdown",
      "source": [
        "<h3>Training</h3>"
      ],
      "metadata": {
        "id": "RKZ-NugYfgZg"
      }
    },
    {
      "cell_type": "code",
      "source": [
        "num_epochs = 30\n",
        "history = model.fit(training_padded, training_labels, epochs=num_epochs,validation_data=(testing_padded, testing_labels), verbose=2)"
      ],
      "metadata": {
        "colab": {
          "base_uri": "https://localhost:8080/"
        },
        "id": "-vxcsoqy5VoN",
        "outputId": "1c262a47-2d19-4893-fd91-87f8591e81f6"
      },
      "execution_count": 46,
      "outputs": [
        {
          "output_type": "stream",
          "name": "stdout",
          "text": [
            "Epoch 1/30\n",
            "4688/4688 - 16s - loss: 0.5042 - accuracy: 0.7372 - val_loss: 0.4219 - val_accuracy: 0.7932 - 16s/epoch - 3ms/step\n",
            "Epoch 2/30\n",
            "4688/4688 - 15s - loss: 0.3907 - accuracy: 0.8096 - val_loss: 0.4101 - val_accuracy: 0.7967 - 15s/epoch - 3ms/step\n",
            "Epoch 3/30\n",
            "4688/4688 - 14s - loss: 0.3741 - accuracy: 0.8165 - val_loss: 0.4054 - val_accuracy: 0.8026 - 14s/epoch - 3ms/step\n",
            "Epoch 4/30\n",
            "4688/4688 - 14s - loss: 0.3668 - accuracy: 0.8189 - val_loss: 0.4066 - val_accuracy: 0.7980 - 14s/epoch - 3ms/step\n",
            "Epoch 5/30\n",
            "4688/4688 - 14s - loss: 0.3619 - accuracy: 0.8224 - val_loss: 0.4103 - val_accuracy: 0.7966 - 14s/epoch - 3ms/step\n",
            "Epoch 6/30\n",
            "4688/4688 - 15s - loss: 0.3586 - accuracy: 0.8236 - val_loss: 0.4080 - val_accuracy: 0.7990 - 15s/epoch - 3ms/step\n",
            "Epoch 7/30\n",
            "4688/4688 - 14s - loss: 0.3567 - accuracy: 0.8233 - val_loss: 0.4077 - val_accuracy: 0.7980 - 14s/epoch - 3ms/step\n",
            "Epoch 8/30\n",
            "4688/4688 - 14s - loss: 0.3542 - accuracy: 0.8261 - val_loss: 0.4122 - val_accuracy: 0.7955 - 14s/epoch - 3ms/step\n",
            "Epoch 9/30\n",
            "4688/4688 - 14s - loss: 0.3518 - accuracy: 0.8272 - val_loss: 0.4164 - val_accuracy: 0.7933 - 14s/epoch - 3ms/step\n",
            "Epoch 10/30\n",
            "4688/4688 - 15s - loss: 0.3505 - accuracy: 0.8272 - val_loss: 0.4072 - val_accuracy: 0.7974 - 15s/epoch - 3ms/step\n",
            "Epoch 11/30\n",
            "4688/4688 - 15s - loss: 0.3481 - accuracy: 0.8285 - val_loss: 0.4122 - val_accuracy: 0.7976 - 15s/epoch - 3ms/step\n",
            "Epoch 12/30\n",
            "4688/4688 - 14s - loss: 0.3454 - accuracy: 0.8290 - val_loss: 0.4126 - val_accuracy: 0.8022 - 14s/epoch - 3ms/step\n",
            "Epoch 13/30\n",
            "4688/4688 - 14s - loss: 0.3423 - accuracy: 0.8292 - val_loss: 0.4120 - val_accuracy: 0.7967 - 14s/epoch - 3ms/step\n",
            "Epoch 14/30\n",
            "4688/4688 - 14s - loss: 0.3381 - accuracy: 0.8310 - val_loss: 0.4193 - val_accuracy: 0.7973 - 14s/epoch - 3ms/step\n",
            "Epoch 15/30\n",
            "4688/4688 - 15s - loss: 0.3341 - accuracy: 0.8311 - val_loss: 0.4275 - val_accuracy: 0.7934 - 15s/epoch - 3ms/step\n",
            "Epoch 16/30\n",
            "4688/4688 - 15s - loss: 0.3300 - accuracy: 0.8345 - val_loss: 0.4288 - val_accuracy: 0.7904 - 15s/epoch - 3ms/step\n",
            "Epoch 17/30\n",
            "4688/4688 - 14s - loss: 0.3261 - accuracy: 0.8360 - val_loss: 0.4326 - val_accuracy: 0.8000 - 14s/epoch - 3ms/step\n",
            "Epoch 18/30\n",
            "4688/4688 - 14s - loss: 0.3230 - accuracy: 0.8372 - val_loss: 0.4399 - val_accuracy: 0.7958 - 14s/epoch - 3ms/step\n",
            "Epoch 19/30\n",
            "4688/4688 - 15s - loss: 0.3192 - accuracy: 0.8389 - val_loss: 0.4487 - val_accuracy: 0.7911 - 15s/epoch - 3ms/step\n",
            "Epoch 20/30\n",
            "4688/4688 - 14s - loss: 0.3159 - accuracy: 0.8401 - val_loss: 0.4510 - val_accuracy: 0.7979 - 14s/epoch - 3ms/step\n",
            "Epoch 21/30\n",
            "4688/4688 - 15s - loss: 0.3129 - accuracy: 0.8414 - val_loss: 0.4650 - val_accuracy: 0.7919 - 15s/epoch - 3ms/step\n",
            "Epoch 22/30\n",
            "4688/4688 - 14s - loss: 0.3094 - accuracy: 0.8446 - val_loss: 0.4575 - val_accuracy: 0.7896 - 14s/epoch - 3ms/step\n",
            "Epoch 23/30\n",
            "4688/4688 - 15s - loss: 0.3062 - accuracy: 0.8461 - val_loss: 0.4627 - val_accuracy: 0.7884 - 15s/epoch - 3ms/step\n",
            "Epoch 24/30\n",
            "4688/4688 - 15s - loss: 0.3029 - accuracy: 0.8474 - val_loss: 0.4738 - val_accuracy: 0.7921 - 15s/epoch - 3ms/step\n",
            "Epoch 25/30\n",
            "4688/4688 - 15s - loss: 0.3002 - accuracy: 0.8485 - val_loss: 0.4887 - val_accuracy: 0.7884 - 15s/epoch - 3ms/step\n",
            "Epoch 26/30\n",
            "4688/4688 - 14s - loss: 0.2966 - accuracy: 0.8509 - val_loss: 0.4869 - val_accuracy: 0.7900 - 14s/epoch - 3ms/step\n",
            "Epoch 27/30\n",
            "4688/4688 - 15s - loss: 0.2930 - accuracy: 0.8520 - val_loss: 0.4969 - val_accuracy: 0.7806 - 15s/epoch - 3ms/step\n",
            "Epoch 28/30\n",
            "4688/4688 - 15s - loss: 0.2903 - accuracy: 0.8536 - val_loss: 0.5003 - val_accuracy: 0.7947 - 15s/epoch - 3ms/step\n",
            "Epoch 29/30\n",
            "4688/4688 - 14s - loss: 0.2870 - accuracy: 0.8563 - val_loss: 0.4981 - val_accuracy: 0.7888 - 14s/epoch - 3ms/step\n",
            "Epoch 30/30\n",
            "4688/4688 - 15s - loss: 0.2839 - accuracy: 0.8575 - val_loss: 0.5189 - val_accuracy: 0.7849 - 15s/epoch - 3ms/step\n"
          ]
        }
      ]
    },
    {
      "cell_type": "markdown",
      "source": [
        "<h3>ROC curve and AUC</h3>\n",
        "<ul><li>True positive: proportion of positives identified correctly</li>\n",
        "<li>false negative: proportion of wrongly classified negative labels</li>\n",
        "</ul>\n",
        "<p>The ROC curve is a graph of true positive rate plotted against false positive rate as the threshold is varied. It is used to analyse the performance of a binary classifier at different thresholds. The AUC is simply the area under the ROC curve, colored blue in the graph, that ranges from 0 to 1. It is useful for comparing the performace of different models.</p>"
      ],
      "metadata": {
        "id": "KEz0uN-Bfv1S"
      }
    },
    {
      "cell_type": "code",
      "source": [
        "from sklearn.metrics import roc_curve\n",
        "y_pred = model.predict(testing_padded).ravel()\n",
        "fpr, tpr, thresholds = roc_curve(testing_labels, y_pred)"
      ],
      "metadata": {
        "id": "hLfK4iQ8Pdr8"
      },
      "execution_count": 50,
      "outputs": []
    },
    {
      "cell_type": "code",
      "source": [
        "from sklearn.metrics import auc\n",
        "auc = auc(fpr, tpr)"
      ],
      "metadata": {
        "id": "6LvnHr8HQTQj"
      },
      "execution_count": 51,
      "outputs": []
    },
    {
      "cell_type": "code",
      "source": [
        "import matplotlib.pyplot as plt\n",
        "\n",
        "plt.plot(fpr, tpr, label='Keras (area = {:.3f})'.format(auc), color='black')\n",
        "plt.xlabel('False positive rate')\n",
        "plt.ylabel('True positive rate')\n",
        "plt.title('ROC curve and AUC')\n",
        "plt.legend(loc='best')\n",
        "plt.fill_between(fpr,tpr)\n",
        "plt.show()"
      ],
      "metadata": {
        "colab": {
          "base_uri": "https://localhost:8080/",
          "height": 295
        },
        "id": "ENL9M7voQqVr",
        "outputId": "51676540-0dec-4184-ba19-ec3936d67586"
      },
      "execution_count": 58,
      "outputs": [
        {
          "output_type": "display_data",
          "data": {
            "text/plain": [
              "<Figure size 432x288 with 1 Axes>"
            ],
            "image/png": "[encoded data removed]"
          },
          "metadata": {
            "needs_background": "light"
          }
        }
      ]
    }
  ]
}